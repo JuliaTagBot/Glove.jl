{
 "cells": [
  {
   "cell_type": "code",
   "execution_count": 1,
   "metadata": {
    "collapsed": true
   },
   "outputs": [],
   "source": [
    "using Glove"
   ]
  },
  {
   "cell_type": "code",
   "execution_count": 2,
   "metadata": {
    "collapsed": false
   },
   "outputs": [
    {
     "ename": "LoadError",
     "evalue": "interrupt\nwhile loading In[2], in expression starting on line 1",
     "output_type": "error",
     "traceback": [
      "interrupt\nwhile loading In[2], in expression starting on line 1",
      "",
      " in parse at string.jl:1244",
      " in parse at string.jl:1261",
      " in read_stanford at /Users/dluna/.julia/v0.3/Glove/src/stanford.jl:29"
     ]
    }
   ],
   "source": [
    "# Loads a pre-trained model from http://nlp.stanford.edu/projects/glove/\n",
    "# Wikipedia 2014 dataset\n",
    "# \n",
    "# little slow :(\n",
    "M, vocab = Glove.read_stanford(\"/Users/dluna/Downloads/glove.6B.50d.txt\")"
   ]
  },
  {
   "cell_type": "code",
   "execution_count": 3,
   "metadata": {
    "collapsed": false
   },
   "outputs": [
    {
     "ename": "LoadError",
     "evalue": "vocab not defined\nwhile loading In[3], in expression starting on line 1",
     "output_type": "error",
     "traceback": [
      "vocab not defined\nwhile loading In[3], in expression starting on line 1",
      ""
     ]
    }
   ],
   "source": [
    "# We need to map word ids back to the actual word.\n",
    "id2word = Glove.make_id2word(vocab)"
   ]
  },
  {
   "cell_type": "code",
   "execution_count": 4,
   "metadata": {
    "collapsed": false
   },
   "outputs": [
    {
     "ename": "LoadError",
     "evalue": "M not defined\nwhile loading In[4], in expression starting on line 1",
     "output_type": "error",
     "traceback": [
      "M not defined\nwhile loading In[4], in expression starting on line 1",
      ""
     ]
    }
   ],
   "source": [
    "Glove.similar_words(M, vocab, id2word, \"canadiens\")"
   ]
  },
  {
   "cell_type": "code",
   "execution_count": null,
   "metadata": {
    "collapsed": true
   },
   "outputs": [],
   "source": []
  }
 ],
 "metadata": {
  "kernelspec": {
   "display_name": "Julia 0.3.8",
   "language": "julia",
   "name": "julia-0.3"
  },
  "language_info": {
   "name": "julia",
   "version": "0.3.8"
  }
 },
 "nbformat": 4,
 "nbformat_minor": 0
}
